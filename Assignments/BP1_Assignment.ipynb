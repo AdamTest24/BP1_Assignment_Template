{
 "cells": [
  {
   "cell_type": "markdown",
   "metadata": {},
   "source": [
    "## L2D Assignment - Basic Python 1:"
   ]
  },
  {
   "cell_type": "markdown",
   "metadata": {},
   "source": [
    "This notebook contains your assignment questions for the Basic Python 1 lesson. Please attempt and complete all questions. The topics this assignment will assess are:\n",
    "\n",
    "2. Variables, Types and Operations\n",
    "3. Conditional Statements\n",
    "\n",
    "When you have completed your assignment, please commit the changes to your GitHub repository's 'Assignments' folder, as instructed in the [Assignments section](https://learntodiscover.github.io/L2D-Handbook/section7.html) of the [L2D Handbok](https://learntodiscover.github.io/L2D-Handbook).\n"
   ]
  },
  {
   "cell_type": "markdown",
   "metadata": {},
   "source": []
  },
  {
   "cell_type": "markdown",
   "metadata": {},
   "source": [
    "__Variables, Types, and Operations__ "
   ]
  },
  {
   "cell_type": "markdown",
   "metadata": {},
   "source": [
    "1. Write and execute Python code to display your own name as an output."
   ]
  },
  {
   "cell_type": "code",
   "execution_count": null,
   "metadata": {},
   "outputs": [],
   "source": []
  },
  {
   "cell_type": "markdown",
   "metadata": {},
   "source": [
    "2. Write and execute Python code that:\n",
    "\n",
    "- Displays the text \"Please press enter to continue...\", and waits for the user to press enter.\n",
    "- Once the user presses enter, the program should display \"Welcome to my program!\" before terminating.\n"
   ]
  },
  {
   "cell_type": "code",
   "execution_count": null,
   "metadata": {},
   "outputs": [],
   "source": []
  },
  {
   "cell_type": "markdown",
   "metadata": {},
   "source": [
    "3. We have an enzyme whose reaction velocity is $\\nu = 50$ mol $\\cdot L^{-1} \\cdot s^{-1}$ at the substrate concentration of $[S] = Km = 2.5$ mol $\\cdot L^{-1}$. Work out the maximum reaction velocity or _Vmax_ for this enzyme using the Michaelis-Menten equation:\n",
    "\n",
    "$$\\nu = \\frac{Vmax[S]}{Km+[S]}$$"
   ]
  },
  {
   "cell_type": "code",
   "execution_count": 5,
   "metadata": {},
   "outputs": [],
   "source": []
  },
  {
   "cell_type": "markdown",
   "metadata": {},
   "source": [
    "\n",
    "__Conditional Statements__"
   ]
  },
  {
   "cell_type": "markdown",
   "metadata": {},
   "source": [
    "1. Protein Kinases have a phosphorylation site; a consensus sequence has been determined for these sites (Rust & Thompson, 2012). All resulting proteins incorporate either a Serine or a Threonine residue that gets phosphorylated. Naturally, the consensus sequence for each protein varies slightly from that of other proteins. When studying a polypeptide in the lab, a colleague realised that it has a phosphorylated Serine. So they tried to sequence the polypeptide, and managed to obtain a sequence for the protein:\n",
    "\n",
    "```\n",
    "kinase_peptide = (\n",
    "    \"PVWNETFVFNLKPGDVERRLSVEVWDWDRTSRNDFMGAMSFGVSELLK\" \n",
    "    \"APVDGWYKLLNQEEGEYYNVPVADADNCSLLQKFEACNYPLELYERVR\" \n",
    "    \"MGPSSSPIPSPSPSPTDPKRCFFGASPGRLHISDFSFLMRRRKGSFGK\" \n",
    "    \"VMLAERRGSDELYAIKILKKDVIVQDDDVDCTLVEKRVLALGGRGPGG\" \n",
    "    \"RPHFLTQLHSTFQTPDRLYFVMEYVTGGDLMYHIQQLGKFKEPHAAFY\" \n",
    "    \"AAEIAIGLFFLHNQGIIYRDLKLDNVMLDAEGHIKITDFGMCKENVF\"\n",
    ")\n",
    "```\n",
    "\n",
    "Desperate to find a match, and knowing that we are good at doing “computer stuff”, they asked us if we could help them identify which protein kinase the sequence corresponds to. To do this, we begin by extracting the consensus sequence of 3 protein kinases from the paper:\n",
    "\n",
    "- PKC-$\\eta$: either RKGSFRR or RRRSFRR\n",
    "- PKC-$\\gamma$: either RRRKGSF or RRRKKSF\n",
    "- DMPK-E: one of KKRRRSL, RKRRRSL, KKRRRSV, or RKRRRSV.\n",
    "\n",
    "We now need to write a conditional statement in Python to identify which of the above protein kinases, if any, our sequence corresponds to. Which one of the consensus peptides exists in our mystery sequence?\n",
    "\n",
    "If there is a match, our program should display the name of the corresponding protein kinase; otherwise, it should say \"No matches found\".\n"
   ]
  },
  {
   "cell_type": "code",
   "execution_count": 1,
   "metadata": {},
   "outputs": [],
   "source": []
  }
 ],
 "metadata": {
  "kernelspec": {
   "display_name": "Python 3 (ipykernel)",
   "language": "python",
   "name": "python3"
  },
  "language_info": {
   "codemirror_mode": {
    "name": "ipython",
    "version": 3
   },
   "file_extension": ".py",
   "mimetype": "text/x-python",
   "name": "python",
   "nbconvert_exporter": "python",
   "pygments_lexer": "ipython3",
   "version": "3.12.4"
  },
  "toc-autonumbering": true,
  "toc-showmarkdowntxt": false,
  "toc-showtags": false
 },
 "nbformat": 4,
 "nbformat_minor": 4
}
